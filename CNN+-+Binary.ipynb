{
 "cells": [
  {
   "cell_type": "code",
   "execution_count": 1,
   "metadata": {},
   "outputs": [
    {
     "name": "stderr",
     "output_type": "stream",
     "text": [
      "Using TensorFlow backend.\n"
     ]
    }
   ],
   "source": [
    "import keras"
   ]
  },
  {
   "cell_type": "code",
   "execution_count": 2,
   "metadata": {
    "collapsed": true
   },
   "outputs": [],
   "source": [
    "from keras.models import Sequential\n",
    "from keras.layers import Conv2D\n",
    "from keras.layers import MaxPooling2D\n",
    "from keras.layers import Flatten\n",
    "from keras.layers import Dense"
   ]
  },
  {
   "cell_type": "code",
   "execution_count": 3,
   "metadata": {},
   "outputs": [
    {
     "ename": "NameError",
     "evalue": "name 'Sequential' is not defined",
     "output_type": "error",
     "traceback": [
      "\u001b[1;31m---------------------------------------------------------------------------\u001b[0m",
      "\u001b[1;31mNameError\u001b[0m                                 Traceback (most recent call last)",
      "\u001b[1;32m<ipython-input-3-d26470456c96>\u001b[0m in \u001b[0;36m<module>\u001b[1;34m()\u001b[0m\n\u001b[0;32m      1\u001b[0m \u001b[1;31m# Initialising the CNN\u001b[0m\u001b[1;33m\u001b[0m\u001b[1;33m\u001b[0m\u001b[0m\n\u001b[1;32m----> 2\u001b[1;33m \u001b[0mclassifier\u001b[0m \u001b[1;33m=\u001b[0m \u001b[0mSequential\u001b[0m\u001b[1;33m(\u001b[0m\u001b[1;33m)\u001b[0m\u001b[1;33m\u001b[0m\u001b[0m\n\u001b[0m\u001b[0;32m      3\u001b[0m \u001b[1;33m\u001b[0m\u001b[0m\n\u001b[0;32m      4\u001b[0m \u001b[1;31m# Step 1 - Convolution\u001b[0m\u001b[1;33m\u001b[0m\u001b[1;33m\u001b[0m\u001b[0m\n\u001b[0;32m      5\u001b[0m \u001b[0mclassifier\u001b[0m\u001b[1;33m.\u001b[0m\u001b[0madd\u001b[0m\u001b[1;33m(\u001b[0m\u001b[0mConv2D\u001b[0m\u001b[1;33m(\u001b[0m\u001b[1;36m32\u001b[0m\u001b[1;33m,\u001b[0m \u001b[1;33m(\u001b[0m\u001b[1;36m3\u001b[0m\u001b[1;33m,\u001b[0m \u001b[1;36m3\u001b[0m\u001b[1;33m)\u001b[0m\u001b[1;33m,\u001b[0m \u001b[0minput_shape\u001b[0m \u001b[1;33m=\u001b[0m \u001b[1;33m(\u001b[0m\u001b[1;36m64\u001b[0m\u001b[1;33m,\u001b[0m \u001b[1;36m64\u001b[0m\u001b[1;33m,\u001b[0m \u001b[1;36m3\u001b[0m\u001b[1;33m)\u001b[0m\u001b[1;33m,\u001b[0m \u001b[0mactivation\u001b[0m \u001b[1;33m=\u001b[0m \u001b[1;34m'relu'\u001b[0m\u001b[1;33m)\u001b[0m\u001b[1;33m)\u001b[0m\u001b[1;33m\u001b[0m\u001b[0m\n",
      "\u001b[1;31mNameError\u001b[0m: name 'Sequential' is not defined"
     ]
    }
   ],
   "source": [
    "# Initialising the CNN\n",
    "classifier = Sequential()\n",
    "\n",
    "# Step 1 - Convolution\n",
    "classifier.add(Conv2D(32,(3, 3), input_shape = (64, 64, 3), activation = 'relu'))\n",
    "\n",
    "# Step 2 - Pooling\n",
    "classifier.add(MaxPooling2D(pool_size = (2, 2)))\n",
    "\n",
    "# Adding a second convolutional layer\n",
    "classifier.add(Conv2D(32, (3, 3), activation = 'relu'))\n",
    "classifier.add(MaxPooling2D(pool_size = (2, 2)))\n",
    "\n",
    "# Step 3 - Flattening\n",
    "classifier.add(Flatten())\n",
    "\n",
    "# Step 4 - Full connection\n",
    "classifier.add(Dense(units = 128, activation = 'relu'))\n",
    "classifier.add(Dense(units = 1, activation = 'sigmoid'))\n",
    "\n",
    "# Compiling the CNN\n",
    "classifier.compile(optimizer = 'adam', loss = 'binary_crossentropy', metrics = ['accuracy'])"
   ]
  },
  {
   "cell_type": "code",
   "execution_count": 4,
   "metadata": {
    "collapsed": true
   },
   "outputs": [],
   "source": [
    "from keras.preprocessing.image import ImageDataGenerator\n",
    "\n",
    "train_datagen = ImageDataGenerator(rescale = 1./255,\n",
    "                                   shear_range = 0.2,\n",
    "                                   zoom_range = 0.2,\n",
    "                                   horizontal_flip = True)\n",
    "\n",
    "test_datagen = ImageDataGenerator(rescale = 1./255)"
   ]
  },
  {
   "cell_type": "code",
   "execution_count": 5,
   "metadata": {},
   "outputs": [
    {
     "name": "stdout",
     "output_type": "stream",
     "text": [
      "Found 120 images belonging to 2 classes.\n"
     ]
    }
   ],
   "source": [
    "training_set = train_datagen.flow_from_directory('E:\\data science\\Deep learning\\CC images\\Images\\Train',\n",
    "                                                 target_size = (64, 64),\n",
    "                                                 batch_size = 32,\n",
    "                                                 class_mode = 'binary')"
   ]
  },
  {
   "cell_type": "code",
   "execution_count": 6,
   "metadata": {},
   "outputs": [
    {
     "name": "stdout",
     "output_type": "stream",
     "text": [
      "Found 13 images belonging to 2 classes.\n"
     ]
    }
   ],
   "source": [
    "test_set = test_datagen.flow_from_directory('E:\\data science\\Deep learning\\CC images\\Images\\Test',\n",
    "                                            target_size = (64, 64),\n",
    "                                            batch_size = 32,\n",
    "                                            class_mode = 'binary')"
   ]
  },
  {
   "cell_type": "code",
   "execution_count": 7,
   "metadata": {},
   "outputs": [
    {
     "name": "stdout",
     "output_type": "stream",
     "text": [
      "Requirement already satisfied: pillow in c:\\users\\bhavesh.k\\anaconda3\\envs\\tfdeeplearning\\lib\\site-packages (5.4.1)\n"
     ]
    }
   ],
   "source": [
    "!pip install pillow"
   ]
  },
  {
   "cell_type": "code",
   "execution_count": 8,
   "metadata": {},
   "outputs": [
    {
     "name": "stdout",
     "output_type": "stream",
     "text": [
      "Epoch 1/20\n",
      "80/80 [==============================] - 29s 357ms/step - loss: 0.4610 - acc: 0.7784 - val_loss: 1.1079 - val_acc: 0.6154\n",
      "Epoch 2/20\n",
      "80/80 [==============================] - 27s 337ms/step - loss: 0.1120 - acc: 0.9630 - val_loss: 1.5180 - val_acc: 0.6154\n",
      "Epoch 3/20\n",
      "80/80 [==============================] - 27s 333ms/step - loss: 0.0325 - acc: 0.9919 - val_loss: 1.7027 - val_acc: 0.6923\n",
      "Epoch 4/20\n",
      "80/80 [==============================] - 27s 340ms/step - loss: 0.0076 - acc: 0.9996 - val_loss: 1.6595 - val_acc: 0.6923\n",
      "Epoch 5/20\n",
      "80/80 [==============================] - 27s 337ms/step - loss: 0.0111 - acc: 0.9979 - val_loss: 1.9490 - val_acc: 0.6923\n",
      "Epoch 6/20\n",
      "80/80 [==============================] - 27s 336ms/step - loss: 0.0043 - acc: 0.9996 - val_loss: 2.5707 - val_acc: 0.6923\n",
      "Epoch 7/20\n",
      "80/80 [==============================] - 26s 330ms/step - loss: 8.6437e-04 - acc: 1.0000 - val_loss: 2.4571 - val_acc: 0.6923\n",
      "Epoch 8/20\n",
      "80/80 [==============================] - 28s 347ms/step - loss: 5.7019e-04 - acc: 1.0000 - val_loss: 2.3855 - val_acc: 0.6923\n",
      "Epoch 9/20\n",
      "80/80 [==============================] - 27s 340ms/step - loss: 4.9596e-04 - acc: 1.0000 - val_loss: 2.7656 - val_acc: 0.6923\n",
      "Epoch 10/20\n",
      "80/80 [==============================] - 27s 341ms/step - loss: 0.0044 - acc: 0.9995 - val_loss: 2.4636 - val_acc: 0.6923\n",
      "Epoch 11/20\n",
      "80/80 [==============================] - 27s 344ms/step - loss: 0.0258 - acc: 0.9901 - val_loss: 1.6763 - val_acc: 0.7692\n",
      "Epoch 12/20\n",
      "80/80 [==============================] - 28s 345ms/step - loss: 0.0166 - acc: 0.9964 - val_loss: 2.4247 - val_acc: 0.7692\n",
      "Epoch 13/20\n",
      "80/80 [==============================] - 27s 331ms/step - loss: 0.0019 - acc: 0.9996 - val_loss: 2.0910 - val_acc: 0.7692\n",
      "Epoch 14/20\n",
      "80/80 [==============================] - 27s 332ms/step - loss: 0.0027 - acc: 0.9991 - val_loss: 2.1788 - val_acc: 0.7692\n",
      "Epoch 15/20\n",
      "80/80 [==============================] - 27s 337ms/step - loss: 0.0019 - acc: 1.0000 - val_loss: 2.1483 - val_acc: 0.7692\n",
      "Epoch 16/20\n",
      "80/80 [==============================] - 27s 333ms/step - loss: 3.2856e-04 - acc: 1.0000 - val_loss: 2.6285 - val_acc: 0.7692\n",
      "Epoch 17/20\n",
      "80/80 [==============================] - 26s 329ms/step - loss: 8.2751e-05 - acc: 1.0000 - val_loss: 2.6419 - val_acc: 0.7692\n",
      "Epoch 18/20\n",
      "80/80 [==============================] - 26s 324ms/step - loss: 7.0451e-05 - acc: 1.0000 - val_loss: 2.5611 - val_acc: 0.7692\n",
      "Epoch 19/20\n",
      "80/80 [==============================] - 27s 333ms/step - loss: 8.1312e-05 - acc: 1.0000 - val_loss: 2.8111 - val_acc: 0.7692\n",
      "Epoch 20/20\n",
      "80/80 [==============================] - 27s 332ms/step - loss: 5.5638e-05 - acc: 1.0000 - val_loss: 2.6520 - val_acc: 0.7692\n"
     ]
    },
    {
     "data": {
      "text/plain": [
       "<keras.callbacks.History at 0x22e09dd3b38>"
      ]
     },
     "execution_count": 8,
     "metadata": {},
     "output_type": "execute_result"
    }
   ],
   "source": [
    "classifier.fit_generator(training_set,\n",
    "                         steps_per_epoch = 80,\n",
    "                         epochs = 20,\n",
    "                         validation_data = test_set,\n",
    "                         validation_steps = 80)"
   ]
  },
  {
   "cell_type": "code",
   "execution_count": 10,
   "metadata": {
    "collapsed": true
   },
   "outputs": [],
   "source": [
    "import numpy as np\n",
    "from keras.preprocessing import image\n",
    "test_image = \\\n",
    "    image.load_img('E:\\\\data science\\\\Deep learning\\\\CC images\\\\Images\\\\Test\\\\ant\\\\image_0037.jpg'\n",
    "                   , target_size=(64, 64))\n",
    "test_image = image.img_to_array(test_image)\n",
    "test_image = np.expand_dims(test_image, axis=0)\n",
    "result = classifier.predict(test_image)"
   ]
  },
  {
   "cell_type": "code",
   "execution_count": 17,
   "metadata": {
    "collapsed": true
   },
   "outputs": [],
   "source": [
    "test_image1 = \\\n",
    "    image.load_img('E:\\\\data science\\\\Deep learning\\\\CC images\\\\Images\\\\Test\\\\butterfly\\\\image_0085.jpg'\n",
    "                   , target_size=(64, 64))\n",
    "test_image1 = image.img_to_array(test_image1)\n",
    "test_image1 = np.expand_dims(test_image1, axis=0)\n",
    "result1 = classifier.predict(test_image1)"
   ]
  },
  {
   "cell_type": "code",
   "execution_count": 22,
   "metadata": {
    "collapsed": true
   },
   "outputs": [],
   "source": [
    "test_image2 = \\\n",
    "    image.load_img('E:\\\\data science\\\\Deep learning\\\\CC images\\\\main_ant-leaf-10.jpg'\n",
    "                   , target_size=(64, 64))\n",
    "test_image2 = image.img_to_array(test_image2)\n",
    "test_image2 = np.expand_dims(test_image2, axis=0)\n",
    "result2 = classifier.predict(test_image2)"
   ]
  },
  {
   "cell_type": "code",
   "execution_count": 23,
   "metadata": {},
   "outputs": [
    {
     "name": "stdout",
     "output_type": "stream",
     "text": [
      "[[ 1.]]\n"
     ]
    }
   ],
   "source": [
    "print(result2)"
   ]
  },
  {
   "cell_type": "code",
   "execution_count": 18,
   "metadata": {},
   "outputs": [
    {
     "name": "stdout",
     "output_type": "stream",
     "text": [
      "[[ 1.]]\n"
     ]
    }
   ],
   "source": [
    "print(result1)"
   ]
  },
  {
   "cell_type": "code",
   "execution_count": 12,
   "metadata": {},
   "outputs": [
    {
     "name": "stdout",
     "output_type": "stream",
     "text": [
      "[[ 0.]]\n"
     ]
    }
   ],
   "source": [
    "print(result)"
   ]
  }
 ],
 "metadata": {
  "kernelspec": {
   "display_name": "Python 3",
   "language": "python",
   "name": "python3"
  },
  "language_info": {
   "codemirror_mode": {
    "name": "ipython",
    "version": 3
   },
   "file_extension": ".py",
   "mimetype": "text/x-python",
   "name": "python",
   "nbconvert_exporter": "python",
   "pygments_lexer": "ipython3",
   "version": "3.5.4"
  }
 },
 "nbformat": 4,
 "nbformat_minor": 2
}
